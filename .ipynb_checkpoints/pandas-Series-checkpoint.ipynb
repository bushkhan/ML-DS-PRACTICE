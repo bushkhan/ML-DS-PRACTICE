{
 "cells": [
  {
   "cell_type": "code",
   "execution_count": 34,
   "id": "5ce19844",
   "metadata": {},
   "outputs": [],
   "source": [
    "import numpy as np"
   ]
  },
  {
   "cell_type": "code",
   "execution_count": 8,
   "id": "d33432d3",
   "metadata": {},
   "outputs": [],
   "source": [
    "import pandas as pd"
   ]
  },
  {
   "cell_type": "code",
   "execution_count": 15,
   "id": "ff0a0cf4",
   "metadata": {},
   "outputs": [],
   "source": [
    "myindex = ['USA','India','Canada']"
   ]
  },
  {
   "cell_type": "code",
   "execution_count": 16,
   "id": "c3619f73",
   "metadata": {},
   "outputs": [],
   "source": [
    "mydata = [1876,1947,1891]"
   ]
  },
  {
   "cell_type": "code",
   "execution_count": 17,
   "id": "8cb1f442",
   "metadata": {},
   "outputs": [],
   "source": [
    "myseries = pd.Series(data=mydata)"
   ]
  },
  {
   "cell_type": "code",
   "execution_count": 18,
   "id": "08dddfcb",
   "metadata": {},
   "outputs": [
    {
     "data": {
      "text/plain": [
       "0    1876\n",
       "1    1947\n",
       "2    1891\n",
       "dtype: int64"
      ]
     },
     "execution_count": 18,
     "metadata": {},
     "output_type": "execute_result"
    }
   ],
   "source": [
    "myseries"
   ]
  },
  {
   "cell_type": "code",
   "execution_count": 19,
   "id": "b63f83e7",
   "metadata": {},
   "outputs": [],
   "source": [
    "myseries = pd.Series(data=mydata,index=myindex)"
   ]
  },
  {
   "cell_type": "code",
   "execution_count": 20,
   "id": "34848d41",
   "metadata": {},
   "outputs": [
    {
     "data": {
      "text/plain": [
       "USA       1876\n",
       "India     1947\n",
       "Canada    1891\n",
       "dtype: int64"
      ]
     },
     "execution_count": 20,
     "metadata": {},
     "output_type": "execute_result"
    }
   ],
   "source": [
    "myseries"
   ]
  },
  {
   "cell_type": "code",
   "execution_count": 21,
   "id": "f92a37cd",
   "metadata": {},
   "outputs": [
    {
     "data": {
      "text/plain": [
       "1876"
      ]
     },
     "execution_count": 21,
     "metadata": {},
     "output_type": "execute_result"
    }
   ],
   "source": [
    "myseries['USA']"
   ]
  },
  {
   "cell_type": "code",
   "execution_count": 22,
   "id": "ac6cd4b2",
   "metadata": {},
   "outputs": [
    {
     "data": {
      "text/plain": [
       "1947"
      ]
     },
     "execution_count": 22,
     "metadata": {},
     "output_type": "execute_result"
    }
   ],
   "source": [
    "myseries[1]"
   ]
  },
  {
   "cell_type": "code",
   "execution_count": 23,
   "id": "17df1d2e",
   "metadata": {},
   "outputs": [],
   "source": [
    "ages = {'Bushra': 20, 'Laiba': 20}"
   ]
  },
  {
   "cell_type": "code",
   "execution_count": 24,
   "id": "d2d49b9f",
   "metadata": {},
   "outputs": [],
   "source": [
    "ageseries = pd.Series(ages)"
   ]
  },
  {
   "cell_type": "code",
   "execution_count": 25,
   "id": "38851d63",
   "metadata": {},
   "outputs": [
    {
     "data": {
      "text/plain": [
       "Bushra    20\n",
       "Laiba     20\n",
       "dtype: int64"
      ]
     },
     "execution_count": 25,
     "metadata": {},
     "output_type": "execute_result"
    }
   ],
   "source": [
    "ageseries"
   ]
  },
  {
   "cell_type": "code",
   "execution_count": 26,
   "id": "f7df7981",
   "metadata": {},
   "outputs": [],
   "source": [
    "q1 = {'Japan': 100, 'India': 200, 'China': 300}\n",
    "q2 = {'Brazil': 100, 'India': 200, 'China': 300}"
   ]
  },
  {
   "cell_type": "code",
   "execution_count": 28,
   "id": "9f5a53fe",
   "metadata": {},
   "outputs": [],
   "source": [
    "series_q1 = pd.Series(q1)"
   ]
  },
  {
   "cell_type": "code",
   "execution_count": 29,
   "id": "fae4251f",
   "metadata": {},
   "outputs": [
    {
     "data": {
      "text/plain": [
       "Japan    100\n",
       "India    200\n",
       "China    300\n",
       "dtype: int64"
      ]
     },
     "execution_count": 29,
     "metadata": {},
     "output_type": "execute_result"
    }
   ],
   "source": [
    "series_q1"
   ]
  },
  {
   "cell_type": "code",
   "execution_count": 30,
   "id": "f405f065",
   "metadata": {},
   "outputs": [],
   "source": [
    "series_q2 = pd.Series(q2)"
   ]
  },
  {
   "cell_type": "code",
   "execution_count": 31,
   "id": "b65477fa",
   "metadata": {},
   "outputs": [
    {
     "data": {
      "text/plain": [
       "Brazil    100\n",
       "India     200\n",
       "China     300\n",
       "dtype: int64"
      ]
     },
     "execution_count": 31,
     "metadata": {},
     "output_type": "execute_result"
    }
   ],
   "source": [
    "series_q2"
   ]
  },
  {
   "cell_type": "code",
   "execution_count": 32,
   "id": "4152fef4",
   "metadata": {},
   "outputs": [
    {
     "data": {
      "text/plain": [
       "Index(['Brazil', 'India', 'China'], dtype='object')"
      ]
     },
     "execution_count": 32,
     "metadata": {},
     "output_type": "execute_result"
    }
   ],
   "source": [
    "series_q2.keys()"
   ]
  },
  {
   "cell_type": "code",
   "execution_count": 35,
   "id": "ae4523eb",
   "metadata": {},
   "outputs": [
    {
     "data": {
      "text/plain": [
       "array([2, 4])"
      ]
     },
     "execution_count": 35,
     "metadata": {},
     "output_type": "execute_result"
    }
   ],
   "source": [
    "np.array([1,2]) * 2"
   ]
  },
  {
   "cell_type": "code",
   "execution_count": 37,
   "id": "eb3330e4",
   "metadata": {},
   "outputs": [
    {
     "data": {
      "text/plain": [
       "Brazil    200\n",
       "India     400\n",
       "China     600\n",
       "dtype: int64"
      ]
     },
     "execution_count": 37,
     "metadata": {},
     "output_type": "execute_result"
    }
   ],
   "source": [
    "series_q2 * 2"
   ]
  },
  {
   "cell_type": "code",
   "execution_count": 38,
   "id": "4526e9d0",
   "metadata": {},
   "outputs": [
    {
     "data": {
      "text/plain": [
       "Brazil    100\n",
       "India     200\n",
       "China     300\n",
       "dtype: int64"
      ]
     },
     "execution_count": 38,
     "metadata": {},
     "output_type": "execute_result"
    }
   ],
   "source": [
    "series_q2"
   ]
  },
  {
   "cell_type": "code",
   "execution_count": 39,
   "id": "cc8371a5",
   "metadata": {},
   "outputs": [
    {
     "data": {
      "text/plain": [
       "Brazil      NaN\n",
       "China     600.0\n",
       "India     400.0\n",
       "Japan       NaN\n",
       "dtype: float64"
      ]
     },
     "execution_count": 39,
     "metadata": {},
     "output_type": "execute_result"
    }
   ],
   "source": [
    " series_q1 + series_q2"
   ]
  },
  {
   "cell_type": "markdown",
   "id": "73bc6a82",
   "metadata": {},
   "source": [
    "# adding series 2 with 1 and producing the output by providing the fill value\n"
   ]
  },
  {
   "cell_type": "code",
   "execution_count": 36,
   "id": "ffe108ed",
   "metadata": {},
   "outputs": [
    {
     "data": {
      "text/plain": [
       "Brazil    100.0\n",
       "China     600.0\n",
       "India     400.0\n",
       "Japan     100.0\n",
       "dtype: float64"
      ]
     },
     "execution_count": 36,
     "metadata": {},
     "output_type": "execute_result"
    }
   ],
   "source": [
    "series_q1.add(series_q2, fill_value=0)"
   ]
  }
 ],
 "metadata": {
  "kernelspec": {
   "display_name": "Python 3 (ipykernel)",
   "language": "python",
   "name": "python3"
  },
  "language_info": {
   "codemirror_mode": {
    "name": "ipython",
    "version": 3
   },
   "file_extension": ".py",
   "mimetype": "text/x-python",
   "name": "python",
   "nbconvert_exporter": "python",
   "pygments_lexer": "ipython3",
   "version": "3.7.13"
  }
 },
 "nbformat": 4,
 "nbformat_minor": 5
}
