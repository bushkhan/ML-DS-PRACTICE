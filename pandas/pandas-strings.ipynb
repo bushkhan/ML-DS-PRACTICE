{
 "cells": [
  {
   "cell_type": "code",
   "execution_count": 1,
   "id": "bbe6c9a1",
   "metadata": {},
   "outputs": [],
   "source": [
    "import numpy as np\n",
    "import pandas as pd"
   ]
  },
  {
   "cell_type": "code",
   "execution_count": 2,
   "id": "e4fcf3ac",
   "metadata": {},
   "outputs": [],
   "source": [
    "email = \"bushra@gmail.com\""
   ]
  },
  {
   "cell_type": "code",
   "execution_count": 3,
   "id": "6a7cf558",
   "metadata": {},
   "outputs": [
    {
     "data": {
      "text/plain": [
       "['bushra', 'gmail.com']"
      ]
     },
     "execution_count": 3,
     "metadata": {},
     "output_type": "execute_result"
    }
   ],
   "source": [
    "email.split(\"@\")"
   ]
  },
  {
   "cell_type": "code",
   "execution_count": 5,
   "id": "45a7c00a",
   "metadata": {},
   "outputs": [],
   "source": [
    "names = pd.Series(['raj','jay','mina','sita'])"
   ]
  },
  {
   "cell_type": "code",
   "execution_count": 6,
   "id": "c42af945",
   "metadata": {},
   "outputs": [
    {
     "data": {
      "text/plain": [
       "0     raj\n",
       "1     jay\n",
       "2    mina\n",
       "3    sita\n",
       "dtype: object"
      ]
     },
     "execution_count": 6,
     "metadata": {},
     "output_type": "execute_result"
    }
   ],
   "source": [
    "names"
   ]
  },
  {
   "cell_type": "code",
   "execution_count": 7,
   "id": "ed79e662",
   "metadata": {},
   "outputs": [
    {
     "data": {
      "text/plain": [
       "0     Raj\n",
       "1     Jay\n",
       "2    Mina\n",
       "3    Sita\n",
       "dtype: object"
      ]
     },
     "execution_count": 7,
     "metadata": {},
     "output_type": "execute_result"
    }
   ],
   "source": [
    "names.str.capitalize()"
   ]
  },
  {
   "cell_type": "code",
   "execution_count": 8,
   "id": "aa2603d2",
   "metadata": {},
   "outputs": [
    {
     "data": {
      "text/plain": [
       "0     RAJ\n",
       "1     JAY\n",
       "2    MINA\n",
       "3    SITA\n",
       "dtype: object"
      ]
     },
     "execution_count": 8,
     "metadata": {},
     "output_type": "execute_result"
    }
   ],
   "source": [
    "names.str.upper()"
   ]
  },
  {
   "cell_type": "code",
   "execution_count": 9,
   "id": "7539238f",
   "metadata": {},
   "outputs": [
    {
     "data": {
      "text/plain": [
       "0     raj\n",
       "1     jay\n",
       "2    mina\n",
       "3    sita\n",
       "dtype: object"
      ]
     },
     "execution_count": 9,
     "metadata": {},
     "output_type": "execute_result"
    }
   ],
   "source": [
    "names"
   ]
  },
  {
   "cell_type": "code",
   "execution_count": 24,
   "id": "09a22414",
   "metadata": {},
   "outputs": [],
   "source": [
    "tech_finance = ['GOOG,APPL,AMZN','BTP,XYZ,JPN']"
   ]
  },
  {
   "cell_type": "code",
   "execution_count": 25,
   "id": "c51457fb",
   "metadata": {},
   "outputs": [
    {
     "data": {
      "text/plain": [
       "2"
      ]
     },
     "execution_count": 25,
     "metadata": {},
     "output_type": "execute_result"
    }
   ],
   "source": [
    "len(tech_finance)"
   ]
  },
  {
   "cell_type": "code",
   "execution_count": 26,
   "id": "0348fe4c",
   "metadata": {},
   "outputs": [],
   "source": [
    "tickers = pd.Series(tech_finance)"
   ]
  },
  {
   "cell_type": "code",
   "execution_count": 27,
   "id": "c81f279c",
   "metadata": {},
   "outputs": [
    {
     "data": {
      "text/plain": [
       "0    GOOG,APPL,AMZN\n",
       "1       BTP,XYZ,JPN\n",
       "dtype: object"
      ]
     },
     "execution_count": 27,
     "metadata": {},
     "output_type": "execute_result"
    }
   ],
   "source": [
    "tickers"
   ]
  },
  {
   "cell_type": "code",
   "execution_count": 28,
   "id": "11f576db",
   "metadata": {},
   "outputs": [
    {
     "data": {
      "text/plain": [
       "0    [GOOG, APPL, AMZN]\n",
       "1       [BTP, XYZ, JPN]\n",
       "dtype: object"
      ]
     },
     "execution_count": 28,
     "metadata": {},
     "output_type": "execute_result"
    }
   ],
   "source": [
    "tickers.str.split(',')"
   ]
  },
  {
   "cell_type": "code",
   "execution_count": 29,
   "id": "8b6d255b",
   "metadata": {},
   "outputs": [
    {
     "data": {
      "text/html": [
       "<div>\n",
       "<style scoped>\n",
       "    .dataframe tbody tr th:only-of-type {\n",
       "        vertical-align: middle;\n",
       "    }\n",
       "\n",
       "    .dataframe tbody tr th {\n",
       "        vertical-align: top;\n",
       "    }\n",
       "\n",
       "    .dataframe thead th {\n",
       "        text-align: right;\n",
       "    }\n",
       "</style>\n",
       "<table border=\"1\" class=\"dataframe\">\n",
       "  <thead>\n",
       "    <tr style=\"text-align: right;\">\n",
       "      <th></th>\n",
       "      <th>0</th>\n",
       "      <th>1</th>\n",
       "      <th>2</th>\n",
       "    </tr>\n",
       "  </thead>\n",
       "  <tbody>\n",
       "    <tr>\n",
       "      <th>0</th>\n",
       "      <td>GOOG</td>\n",
       "      <td>APPL</td>\n",
       "      <td>AMZN</td>\n",
       "    </tr>\n",
       "    <tr>\n",
       "      <th>1</th>\n",
       "      <td>BTP</td>\n",
       "      <td>XYZ</td>\n",
       "      <td>JPN</td>\n",
       "    </tr>\n",
       "  </tbody>\n",
       "</table>\n",
       "</div>"
      ],
      "text/plain": [
       "      0     1     2\n",
       "0  GOOG  APPL  AMZN\n",
       "1   BTP   XYZ   JPN"
      ]
     },
     "execution_count": 29,
     "metadata": {},
     "output_type": "execute_result"
    }
   ],
   "source": [
    "tickers.str.split(',',expand=True)"
   ]
  },
  {
   "cell_type": "code",
   "execution_count": 33,
   "id": "c44ac439",
   "metadata": {},
   "outputs": [],
   "source": [
    "messy_names = pd.Series(['bob;o','  raj','claire  '])"
   ]
  },
  {
   "cell_type": "code",
   "execution_count": 34,
   "id": "fd1a9940",
   "metadata": {},
   "outputs": [
    {
     "data": {
      "text/plain": [
       "0       bob;o\n",
       "1         raj\n",
       "2    claire  \n",
       "dtype: object"
      ]
     },
     "execution_count": 34,
     "metadata": {},
     "output_type": "execute_result"
    }
   ],
   "source": [
    "messy_names"
   ]
  },
  {
   "cell_type": "code",
   "execution_count": 39,
   "id": "e8c836ea",
   "metadata": {},
   "outputs": [
    {
     "data": {
      "text/plain": [
       "0      Bobo\n",
       "1       Raj\n",
       "2    Claire\n",
       "dtype: object"
      ]
     },
     "execution_count": 39,
     "metadata": {},
     "output_type": "execute_result"
    }
   ],
   "source": [
    "messy_names.str.replace(';','').str.strip().str.capitalize()"
   ]
  },
  {
   "cell_type": "code",
   "execution_count": 40,
   "id": "d31b36f6",
   "metadata": {},
   "outputs": [],
   "source": [
    "def cleanup(name):\n",
    "    name = name.str.replace(';','')\n",
    "    name = name.str.strip()\n",
    "    name = name.str.capitalize()\n",
    "    return name\n",
    "    #less time then before"
   ]
  },
  {
   "cell_type": "code",
   "execution_count": 42,
   "id": "b4d8dda4",
   "metadata": {},
   "outputs": [
    {
     "data": {
      "text/plain": [
       "0      Bobo\n",
       "1       Raj\n",
       "2    Claire\n",
       "dtype: object"
      ]
     },
     "execution_count": 42,
     "metadata": {},
     "output_type": "execute_result"
    }
   ],
   "source": [
    "cleanup(messy_names)"
   ]
  },
  {
   "cell_type": "code",
   "execution_count": null,
   "id": "7723f4dd",
   "metadata": {},
   "outputs": [],
   "source": []
  }
 ],
 "metadata": {
  "kernelspec": {
   "display_name": "Python 3 (ipykernel)",
   "language": "python",
   "name": "python3"
  },
  "language_info": {
   "codemirror_mode": {
    "name": "ipython",
    "version": 3
   },
   "file_extension": ".py",
   "mimetype": "text/x-python",
   "name": "python",
   "nbconvert_exporter": "python",
   "pygments_lexer": "ipython3",
   "version": "3.7.13"
  }
 },
 "nbformat": 4,
 "nbformat_minor": 5
}
