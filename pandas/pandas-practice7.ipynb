{
 "cells": [
  {
   "cell_type": "code",
   "execution_count": 1,
   "id": "f4323bfa",
   "metadata": {},
   "outputs": [],
   "source": [
    "import pandas as pd"
   ]
  },
  {
   "cell_type": "code",
   "execution_count": 2,
   "id": "24e7ec20",
   "metadata": {},
   "outputs": [],
   "source": [
    "import numpy as np"
   ]
  },
  {
   "cell_type": "code",
   "execution_count": 8,
   "id": "4d77e744",
   "metadata": {},
   "outputs": [],
   "source": [
    "names = pd.Series(['bushra', 'laiba', 'aalam','5'])"
   ]
  },
  {
   "cell_type": "code",
   "execution_count": 9,
   "id": "9816759a",
   "metadata": {},
   "outputs": [
    {
     "data": {
      "text/plain": [
       "0    bushra\n",
       "1     laiba\n",
       "2     aalam\n",
       "3         5\n",
       "dtype: object"
      ]
     },
     "execution_count": 9,
     "metadata": {},
     "output_type": "execute_result"
    }
   ],
   "source": [
    "names\n"
   ]
  },
  {
   "cell_type": "code",
   "execution_count": 10,
   "id": "ca4d6563",
   "metadata": {},
   "outputs": [
    {
     "data": {
      "text/plain": [
       "0    BUSHRA\n",
       "1     LAIBA\n",
       "2     AALAM\n",
       "3         5\n",
       "dtype: object"
      ]
     },
     "execution_count": 10,
     "metadata": {},
     "output_type": "execute_result"
    }
   ],
   "source": [
    "names.str.upper()"
   ]
  },
  {
   "cell_type": "code",
   "execution_count": 11,
   "id": "b1532283",
   "metadata": {},
   "outputs": [
    {
     "data": {
      "text/plain": [
       "0    False\n",
       "1    False\n",
       "2    False\n",
       "3     True\n",
       "dtype: bool"
      ]
     },
     "execution_count": 11,
     "metadata": {},
     "output_type": "execute_result"
    }
   ],
   "source": [
    "names.str.isdigit()"
   ]
  },
  {
   "cell_type": "code",
   "execution_count": 12,
   "id": "7d23d492",
   "metadata": {},
   "outputs": [],
   "source": [
    "holidays = pd.Series(['eid  ', 'diwali:', '  holi'])"
   ]
  },
  {
   "cell_type": "code",
   "execution_count": 13,
   "id": "a4baa203",
   "metadata": {},
   "outputs": [
    {
     "data": {
      "text/plain": [
       "0      eid  \n",
       "1    diwali:\n",
       "2       holi\n",
       "dtype: object"
      ]
     },
     "execution_count": 13,
     "metadata": {},
     "output_type": "execute_result"
    }
   ],
   "source": [
    "holidays"
   ]
  },
  {
   "cell_type": "code",
   "execution_count": 19,
   "id": "56b4c283",
   "metadata": {},
   "outputs": [
    {
     "data": {
      "text/plain": [
       "0       Eid\n",
       "1    Diwali\n",
       "2      Holi\n",
       "dtype: object"
      ]
     },
     "execution_count": 19,
     "metadata": {},
     "output_type": "execute_result"
    }
   ],
   "source": [
    "holidays.str.replace(':','').str.strip().str.capitalize()"
   ]
  },
  {
   "cell_type": "code",
   "execution_count": 21,
   "id": "34eb10cc",
   "metadata": {},
   "outputs": [],
   "source": [
    "def cleanup(name):\n",
    "    name = name.replace(':','')\n",
    "    name = name.strip()\n",
    "    name = name.capitalize()\n",
    "    return name"
   ]
  },
  {
   "cell_type": "code",
   "execution_count": 22,
   "id": "5a8477f2",
   "metadata": {},
   "outputs": [
    {
     "data": {
      "text/plain": [
       "0       Eid\n",
       "1    Diwali\n",
       "2      Holi\n",
       "dtype: object"
      ]
     },
     "execution_count": 22,
     "metadata": {},
     "output_type": "execute_result"
    }
   ],
   "source": [
    "holidays.apply(cleanup)"
   ]
  },
  {
   "cell_type": "code",
   "execution_count": null,
   "id": "9790de84",
   "metadata": {},
   "outputs": [],
   "source": []
  }
 ],
 "metadata": {
  "kernelspec": {
   "display_name": "Python 3 (ipykernel)",
   "language": "python",
   "name": "python3"
  },
  "language_info": {
   "codemirror_mode": {
    "name": "ipython",
    "version": 3
   },
   "file_extension": ".py",
   "mimetype": "text/x-python",
   "name": "python",
   "nbconvert_exporter": "python",
   "pygments_lexer": "ipython3",
   "version": "3.9.13"
  }
 },
 "nbformat": 4,
 "nbformat_minor": 5
}
