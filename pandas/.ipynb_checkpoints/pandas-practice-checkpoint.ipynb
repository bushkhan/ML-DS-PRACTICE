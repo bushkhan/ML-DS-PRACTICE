{
 "cells": [
  {
   "cell_type": "code",
   "execution_count": 1,
   "id": "46a610bb",
   "metadata": {},
   "outputs": [],
   "source": [
    "import numpy as np"
   ]
  },
  {
   "cell_type": "code",
   "execution_count": 2,
   "id": "fa25d0e4",
   "metadata": {},
   "outputs": [],
   "source": [
    "import pandas as pd"
   ]
  },
  {
   "cell_type": "code",
   "execution_count": 17,
   "id": "5a428147",
   "metadata": {},
   "outputs": [],
   "source": [
    "myseries1 = pd.Series([200,400,600],['UK','CANADA','USA'])"
   ]
  },
  {
   "cell_type": "code",
   "execution_count": 18,
   "id": "938b4280",
   "metadata": {},
   "outputs": [
    {
     "data": {
      "text/plain": [
       "UK        200\n",
       "CANADA    400\n",
       "USA       600\n",
       "dtype: int64"
      ]
     },
     "execution_count": 18,
     "metadata": {},
     "output_type": "execute_result"
    }
   ],
   "source": [
    "myseries1"
   ]
  },
  {
   "cell_type": "code",
   "execution_count": 19,
   "id": "e5129f55",
   "metadata": {},
   "outputs": [
    {
     "data": {
      "text/plain": [
       "600"
      ]
     },
     "execution_count": 19,
     "metadata": {},
     "output_type": "execute_result"
    }
   ],
   "source": [
    "myseries1['USA']"
   ]
  },
  {
   "cell_type": "code",
   "execution_count": 20,
   "id": "e6ba1d25",
   "metadata": {},
   "outputs": [
    {
     "data": {
      "text/plain": [
       "Index(['UK', 'CANADA', 'USA'], dtype='object')"
      ]
     },
     "execution_count": 20,
     "metadata": {},
     "output_type": "execute_result"
    }
   ],
   "source": [
    "myseries1.keys()"
   ]
  },
  {
   "cell_type": "code",
   "execution_count": 21,
   "id": "a620d751",
   "metadata": {},
   "outputs": [
    {
     "data": {
      "text/plain": [
       "UK         400\n",
       "CANADA     800\n",
       "USA       1200\n",
       "dtype: int64"
      ]
     },
     "execution_count": 21,
     "metadata": {},
     "output_type": "execute_result"
    }
   ],
   "source": [
    "myseries1 * 2"
   ]
  },
  {
   "cell_type": "markdown",
   "id": "a1d0ecdd",
   "metadata": {},
   "source": [
    "#DATFRAMES"
   ]
  },
  {
   "cell_type": "code",
   "execution_count": 47,
   "id": "b668ee37",
   "metadata": {},
   "outputs": [],
   "source": [
    "np.random.seed(101)\n",
    "data1 = np.random.randint(0,101,(4,3))"
   ]
  },
  {
   "cell_type": "code",
   "execution_count": 48,
   "id": "d19159da",
   "metadata": {},
   "outputs": [
    {
     "data": {
      "text/plain": [
       "array([[95, 11, 81],\n",
       "       [70, 63, 87],\n",
       "       [75,  9, 77],\n",
       "       [40,  4, 63]])"
      ]
     },
     "execution_count": 48,
     "metadata": {},
     "output_type": "execute_result"
    }
   ],
   "source": [
    "data1"
   ]
  },
  {
   "cell_type": "code",
   "execution_count": 49,
   "id": "7ffadf1e",
   "metadata": {},
   "outputs": [],
   "source": [
    "mycolumns = ['JAN', 'FEB', 'MAR'] #columns"
   ]
  },
  {
   "cell_type": "code",
   "execution_count": 53,
   "id": "80cecb7b",
   "metadata": {},
   "outputs": [],
   "source": [
    "myindex = ['A','B','C','D'] #rows"
   ]
  },
  {
   "cell_type": "code",
   "execution_count": 54,
   "id": "ce5b8c31",
   "metadata": {},
   "outputs": [],
   "source": [
    "df = pd.DataFrame(data1,myindex,mycolumns)"
   ]
  },
  {
   "cell_type": "code",
   "execution_count": 55,
   "id": "530ed03c",
   "metadata": {},
   "outputs": [
    {
     "data": {
      "text/html": [
       "<div>\n",
       "<style scoped>\n",
       "    .dataframe tbody tr th:only-of-type {\n",
       "        vertical-align: middle;\n",
       "    }\n",
       "\n",
       "    .dataframe tbody tr th {\n",
       "        vertical-align: top;\n",
       "    }\n",
       "\n",
       "    .dataframe thead th {\n",
       "        text-align: right;\n",
       "    }\n",
       "</style>\n",
       "<table border=\"1\" class=\"dataframe\">\n",
       "  <thead>\n",
       "    <tr style=\"text-align: right;\">\n",
       "      <th></th>\n",
       "      <th>JAN</th>\n",
       "      <th>FEB</th>\n",
       "      <th>MAR</th>\n",
       "    </tr>\n",
       "  </thead>\n",
       "  <tbody>\n",
       "    <tr>\n",
       "      <th>A</th>\n",
       "      <td>95</td>\n",
       "      <td>11</td>\n",
       "      <td>81</td>\n",
       "    </tr>\n",
       "    <tr>\n",
       "      <th>B</th>\n",
       "      <td>70</td>\n",
       "      <td>63</td>\n",
       "      <td>87</td>\n",
       "    </tr>\n",
       "    <tr>\n",
       "      <th>C</th>\n",
       "      <td>75</td>\n",
       "      <td>9</td>\n",
       "      <td>77</td>\n",
       "    </tr>\n",
       "    <tr>\n",
       "      <th>D</th>\n",
       "      <td>40</td>\n",
       "      <td>4</td>\n",
       "      <td>63</td>\n",
       "    </tr>\n",
       "  </tbody>\n",
       "</table>\n",
       "</div>"
      ],
      "text/plain": [
       "   JAN  FEB  MAR\n",
       "A   95   11   81\n",
       "B   70   63   87\n",
       "C   75    9   77\n",
       "D   40    4   63"
      ]
     },
     "execution_count": 55,
     "metadata": {},
     "output_type": "execute_result"
    }
   ],
   "source": [
    "df"
   ]
  },
  {
   "cell_type": "code",
   "execution_count": 56,
   "id": "a11caff1",
   "metadata": {},
   "outputs": [
    {
     "name": "stdout",
     "output_type": "stream",
     "text": [
      "<class 'pandas.core.frame.DataFrame'>\n",
      "Index: 4 entries, A to D\n",
      "Data columns (total 3 columns):\n",
      " #   Column  Non-Null Count  Dtype\n",
      "---  ------  --------------  -----\n",
      " 0   JAN     4 non-null      int32\n",
      " 1   FEB     4 non-null      int32\n",
      " 2   MAR     4 non-null      int32\n",
      "dtypes: int32(3)\n",
      "memory usage: 80.0+ bytes\n"
     ]
    }
   ],
   "source": [
    "df.info()"
   ]
  },
  {
   "cell_type": "code",
   "execution_count": null,
   "id": "3d1b6948",
   "metadata": {},
   "outputs": [],
   "source": []
  }
 ],
 "metadata": {
  "kernelspec": {
   "display_name": "Python 3 (ipykernel)",
   "language": "python",
   "name": "python3"
  },
  "language_info": {
   "codemirror_mode": {
    "name": "ipython",
    "version": 3
   },
   "file_extension": ".py",
   "mimetype": "text/x-python",
   "name": "python",
   "nbconvert_exporter": "python",
   "pygments_lexer": "ipython3",
   "version": "3.9.13"
  }
 },
 "nbformat": 4,
 "nbformat_minor": 5
}
